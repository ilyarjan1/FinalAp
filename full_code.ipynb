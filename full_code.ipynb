{
  "cells": [
    {
      "cell_type": "code",
      "source": [
        "!pip install requests\n",
        "!pip install beautifulsoup4\n",
        "!pip install tensorflow\n",
        "!pip install numpy\n",
        "!pip install fuzzywuzzy\n"
      ],
      "metadata": {
        "colab": {
          "base_uri": "https://localhost:8080/"
        },
        "id": "ClQHVoyDbLGz",
        "outputId": "be8e69a8-f413-4a7c-f5a2-29c4631cb917"
      },
      "execution_count": 2,
      "outputs": [
        {
          "output_type": "stream",
          "name": "stdout",
          "text": [
            "Requirement already satisfied: requests in /usr/local/lib/python3.10/dist-packages (2.31.0)\n",
            "Requirement already satisfied: charset-normalizer<4,>=2 in /usr/local/lib/python3.10/dist-packages (from requests) (3.3.2)\n",
            "Requirement already satisfied: idna<4,>=2.5 in /usr/local/lib/python3.10/dist-packages (from requests) (3.6)\n",
            "Requirement already satisfied: urllib3<3,>=1.21.1 in /usr/local/lib/python3.10/dist-packages (from requests) (2.0.7)\n",
            "Requirement already satisfied: certifi>=2017.4.17 in /usr/local/lib/python3.10/dist-packages (from requests) (2024.2.2)\n",
            "Requirement already satisfied: beautifulsoup4 in /usr/local/lib/python3.10/dist-packages (4.12.3)\n",
            "Requirement already satisfied: soupsieve>1.2 in /usr/local/lib/python3.10/dist-packages (from beautifulsoup4) (2.5)\n",
            "Requirement already satisfied: tensorflow in /usr/local/lib/python3.10/dist-packages (2.15.0)\n",
            "Requirement already satisfied: absl-py>=1.0.0 in /usr/local/lib/python3.10/dist-packages (from tensorflow) (1.4.0)\n",
            "Requirement already satisfied: astunparse>=1.6.0 in /usr/local/lib/python3.10/dist-packages (from tensorflow) (1.6.3)\n",
            "Requirement already satisfied: flatbuffers>=23.5.26 in /usr/local/lib/python3.10/dist-packages (from tensorflow) (23.5.26)\n",
            "Requirement already satisfied: gast!=0.5.0,!=0.5.1,!=0.5.2,>=0.2.1 in /usr/local/lib/python3.10/dist-packages (from tensorflow) (0.5.4)\n",
            "Requirement already satisfied: google-pasta>=0.1.1 in /usr/local/lib/python3.10/dist-packages (from tensorflow) (0.2.0)\n",
            "Requirement already satisfied: h5py>=2.9.0 in /usr/local/lib/python3.10/dist-packages (from tensorflow) (3.9.0)\n",
            "Requirement already satisfied: libclang>=13.0.0 in /usr/local/lib/python3.10/dist-packages (from tensorflow) (16.0.6)\n",
            "Requirement already satisfied: ml-dtypes~=0.2.0 in /usr/local/lib/python3.10/dist-packages (from tensorflow) (0.2.0)\n",
            "Requirement already satisfied: numpy<2.0.0,>=1.23.5 in /usr/local/lib/python3.10/dist-packages (from tensorflow) (1.25.2)\n",
            "Requirement already satisfied: opt-einsum>=2.3.2 in /usr/local/lib/python3.10/dist-packages (from tensorflow) (3.3.0)\n",
            "Requirement already satisfied: packaging in /usr/local/lib/python3.10/dist-packages (from tensorflow) (23.2)\n",
            "Requirement already satisfied: protobuf!=4.21.0,!=4.21.1,!=4.21.2,!=4.21.3,!=4.21.4,!=4.21.5,<5.0.0dev,>=3.20.3 in /usr/local/lib/python3.10/dist-packages (from tensorflow) (3.20.3)\n",
            "Requirement already satisfied: setuptools in /usr/local/lib/python3.10/dist-packages (from tensorflow) (67.7.2)\n",
            "Requirement already satisfied: six>=1.12.0 in /usr/local/lib/python3.10/dist-packages (from tensorflow) (1.16.0)\n",
            "Requirement already satisfied: termcolor>=1.1.0 in /usr/local/lib/python3.10/dist-packages (from tensorflow) (2.4.0)\n",
            "Requirement already satisfied: typing-extensions>=3.6.6 in /usr/local/lib/python3.10/dist-packages (from tensorflow) (4.10.0)\n",
            "Requirement already satisfied: wrapt<1.15,>=1.11.0 in /usr/local/lib/python3.10/dist-packages (from tensorflow) (1.14.1)\n",
            "Requirement already satisfied: tensorflow-io-gcs-filesystem>=0.23.1 in /usr/local/lib/python3.10/dist-packages (from tensorflow) (0.36.0)\n",
            "Requirement already satisfied: grpcio<2.0,>=1.24.3 in /usr/local/lib/python3.10/dist-packages (from tensorflow) (1.62.0)\n",
            "Requirement already satisfied: tensorboard<2.16,>=2.15 in /usr/local/lib/python3.10/dist-packages (from tensorflow) (2.15.2)\n",
            "Requirement already satisfied: tensorflow-estimator<2.16,>=2.15.0 in /usr/local/lib/python3.10/dist-packages (from tensorflow) (2.15.0)\n",
            "Requirement already satisfied: keras<2.16,>=2.15.0 in /usr/local/lib/python3.10/dist-packages (from tensorflow) (2.15.0)\n",
            "Requirement already satisfied: wheel<1.0,>=0.23.0 in /usr/local/lib/python3.10/dist-packages (from astunparse>=1.6.0->tensorflow) (0.42.0)\n",
            "Requirement already satisfied: google-auth<3,>=1.6.3 in /usr/local/lib/python3.10/dist-packages (from tensorboard<2.16,>=2.15->tensorflow) (2.27.0)\n",
            "Requirement already satisfied: google-auth-oauthlib<2,>=0.5 in /usr/local/lib/python3.10/dist-packages (from tensorboard<2.16,>=2.15->tensorflow) (1.2.0)\n",
            "Requirement already satisfied: markdown>=2.6.8 in /usr/local/lib/python3.10/dist-packages (from tensorboard<2.16,>=2.15->tensorflow) (3.5.2)\n",
            "Requirement already satisfied: requests<3,>=2.21.0 in /usr/local/lib/python3.10/dist-packages (from tensorboard<2.16,>=2.15->tensorflow) (2.31.0)\n",
            "Requirement already satisfied: tensorboard-data-server<0.8.0,>=0.7.0 in /usr/local/lib/python3.10/dist-packages (from tensorboard<2.16,>=2.15->tensorflow) (0.7.2)\n",
            "Requirement already satisfied: werkzeug>=1.0.1 in /usr/local/lib/python3.10/dist-packages (from tensorboard<2.16,>=2.15->tensorflow) (3.0.1)\n",
            "Requirement already satisfied: cachetools<6.0,>=2.0.0 in /usr/local/lib/python3.10/dist-packages (from google-auth<3,>=1.6.3->tensorboard<2.16,>=2.15->tensorflow) (5.3.3)\n",
            "Requirement already satisfied: pyasn1-modules>=0.2.1 in /usr/local/lib/python3.10/dist-packages (from google-auth<3,>=1.6.3->tensorboard<2.16,>=2.15->tensorflow) (0.3.0)\n",
            "Requirement already satisfied: rsa<5,>=3.1.4 in /usr/local/lib/python3.10/dist-packages (from google-auth<3,>=1.6.3->tensorboard<2.16,>=2.15->tensorflow) (4.9)\n",
            "Requirement already satisfied: requests-oauthlib>=0.7.0 in /usr/local/lib/python3.10/dist-packages (from google-auth-oauthlib<2,>=0.5->tensorboard<2.16,>=2.15->tensorflow) (1.3.1)\n",
            "Requirement already satisfied: charset-normalizer<4,>=2 in /usr/local/lib/python3.10/dist-packages (from requests<3,>=2.21.0->tensorboard<2.16,>=2.15->tensorflow) (3.3.2)\n",
            "Requirement already satisfied: idna<4,>=2.5 in /usr/local/lib/python3.10/dist-packages (from requests<3,>=2.21.0->tensorboard<2.16,>=2.15->tensorflow) (3.6)\n",
            "Requirement already satisfied: urllib3<3,>=1.21.1 in /usr/local/lib/python3.10/dist-packages (from requests<3,>=2.21.0->tensorboard<2.16,>=2.15->tensorflow) (2.0.7)\n",
            "Requirement already satisfied: certifi>=2017.4.17 in /usr/local/lib/python3.10/dist-packages (from requests<3,>=2.21.0->tensorboard<2.16,>=2.15->tensorflow) (2024.2.2)\n",
            "Requirement already satisfied: MarkupSafe>=2.1.1 in /usr/local/lib/python3.10/dist-packages (from werkzeug>=1.0.1->tensorboard<2.16,>=2.15->tensorflow) (2.1.5)\n",
            "Requirement already satisfied: pyasn1<0.6.0,>=0.4.6 in /usr/local/lib/python3.10/dist-packages (from pyasn1-modules>=0.2.1->google-auth<3,>=1.6.3->tensorboard<2.16,>=2.15->tensorflow) (0.5.1)\n",
            "Requirement already satisfied: oauthlib>=3.0.0 in /usr/local/lib/python3.10/dist-packages (from requests-oauthlib>=0.7.0->google-auth-oauthlib<2,>=0.5->tensorboard<2.16,>=2.15->tensorflow) (3.2.2)\n",
            "Requirement already satisfied: numpy in /usr/local/lib/python3.10/dist-packages (1.25.2)\n",
            "Collecting fuzzywuzzy\n",
            "  Downloading fuzzywuzzy-0.18.0-py2.py3-none-any.whl (18 kB)\n",
            "Installing collected packages: fuzzywuzzy\n",
            "Successfully installed fuzzywuzzy-0.18.0\n"
          ]
        }
      ]
    },
    {
      "cell_type": "code",
      "execution_count": 3,
      "metadata": {
        "id": "Q_guxsJocsSi",
        "colab": {
          "base_uri": "https://localhost:8080/"
        },
        "outputId": "2a7d95ca-b8d2-407c-885a-dcef83cb4e84"
      },
      "outputs": [
        {
          "output_type": "stream",
          "name": "stderr",
          "text": [
            "/usr/local/lib/python3.10/dist-packages/fuzzywuzzy/fuzz.py:11: UserWarning: Using slow pure-python SequenceMatcher. Install python-Levenshtein to remove this warning\n",
            "  warnings.warn('Using slow pure-python SequenceMatcher. Install python-Levenshtein to remove this warning')\n"
          ]
        }
      ],
      "source": [
        "import requests\n",
        "from bs4 import BeautifulSoup\n",
        "import tensorflow as tf\n",
        "import json\n",
        "import numpy as np\n",
        "from fuzzywuzzy import fuzz"
      ]
    },
    {
      "cell_type": "code",
      "execution_count": 4,
      "metadata": {
        "id": "CtNFi5KWcsSj"
      },
      "outputs": [],
      "source": [
        "# links\n",
        "understat = {\n",
        "    'match_link': 'https://understat.com/match/',\n",
        "    '22/23': {\n",
        "        'EPL': 'https://understat.com/league/EPL/2022',\n",
        "        'Serie A': 'https://understat.com/league/Serie_A/2022',\n",
        "        'La liga': 'https://understat.com/league/La_liga/2022',\n",
        "        'Bundesliga': 'https://understat.com/league/Bundesliga/2022',\n",
        "        'Ligue 1': 'https://understat.com/league/Ligue_1/2022'\n",
        "    },\n",
        "    '21/22': {\n",
        "        'EPL': 'https://understat.com/league/EPL/2021',\n",
        "        'Serie A': 'https://understat.com/league/Serie_A/2021',\n",
        "        'La liga': 'https://understat.com/league/La_liga/2021',\n",
        "        'Bundesliga': 'https://understat.com/league/Bundesliga/2021',\n",
        "        'Ligue 1': 'https://understat.com/league/Ligue_1/2021'\n",
        "    },\n",
        "    '20/21': {\n",
        "        'EPL': 'https://understat.com/league/EPL/2020',\n",
        "        'Serie A': 'https://understat.com/league/Serie_A/2020',\n",
        "        'La liga': 'https://understat.com/league/La_liga/2020',\n",
        "        'Bundesliga': 'https://understat.com/league/Bundesliga/2020',\n",
        "        'Ligue 1': 'https://understat.com/league/Ligue_1/2020'\n",
        "    },\n",
        "    '19/20': {\n",
        "        'EPL': 'https://understat.com/league/EPL/2019',\n",
        "        'Serie A': 'https://understat.com/league/Serie_A/2019',\n",
        "        'La liga': 'https://understat.com/league/La_liga/2019',\n",
        "        'Bundesliga': 'https://understat.com/league/Bundesliga/2019',\n",
        "        'Ligue 1': 'https://understat.com/league/Ligue_1/2019'\n",
        "    },\n",
        "    '18/19': {\n",
        "        'EPL': 'https://understat.com/league/EPL/2018',\n",
        "        'Serie A': 'https://understat.com/league/Serie_A/2018',\n",
        "        'La liga': 'https://understat.com/league/La_liga/2018',\n",
        "        'Bundesliga': 'https://understat.com/league/Bundesliga/2018',\n",
        "        'Ligue 1': 'https://understat.com/league/Ligue_1/2018'\n",
        "    },\n",
        "    '17/18': {\n",
        "        'EPL': 'https://understat.com/league/EPL/2018',\n",
        "        'Serie A': 'https://understat.com/league/Serie_A/2017',\n",
        "        'La liga': 'https://understat.com/league/La_liga/2017',\n",
        "        'Bundesliga': 'https://understat.com/league/Bundesliga/2017',\n",
        "        'Ligue 1': 'https://understat.com/league/Ligue_1/2017'\n",
        "    },\n",
        "    '16/17': {\n",
        "        'EPL': 'https://understat.com/league/EPL/2016',\n",
        "        'Serie A': 'https://understat.com/league/Serie_A/2016',\n",
        "        'La liga': 'https://understat.com/league/La_liga/2016',\n",
        "        'Bundesliga': 'https://understat.com/league/Bundesliga/2016',\n",
        "        'Ligue 1': 'https://understat.com/league/Ligue_1/2016'\n",
        "    },\n",
        "    '15/16': {\n",
        "        'EPL': 'https://understat.com/league/EPL/2015',\n",
        "        'Serie A': 'https://understat.com/league/Serie_A/2015',\n",
        "        'La liga': 'https://understat.com/league/La_liga/2015',\n",
        "        'Bundesliga': 'https://understat.com/league/Bundesliga/2015',\n",
        "        'Ligue 1': 'https://understat.com/league/Ligue_1/2015'\n",
        "    },\n",
        "    '14/15': {\n",
        "        'EPL': 'https://understat.com/league/EPL/2014',\n",
        "        'Serie A': 'https://understat.com/league/Serie_A/2014',\n",
        "        'La liga': 'https://understat.com/league/La_liga/2014',\n",
        "        'Bundesliga': 'https://understat.com/league/Bundesliga/2014',\n",
        "        'Ligue 1': 'https://understat.com/league/Ligue_1/2014'\n",
        "    },\n",
        "}\n",
        "# enums\n",
        "HOME, AWAY = 0, 1\n",
        "DRAW, WON, LOST = 0, 1, 2\n",
        "W_PTS, D_PTS, L_PTS = 3, 1, 0"
      ]
    },
    {
      "cell_type": "code",
      "execution_count": 5,
      "metadata": {
        "id": "4RWaSq3BcsSk"
      },
      "outputs": [],
      "source": [
        "def get_match_stat(id : str) :\n",
        "    url = understat['match_link'] + id\n",
        "    res = requests.get(url)\n",
        "\n",
        "    soup = BeautifulSoup(res.content, 'html.parser')\n",
        "    stat_divs = soup.find_all('div', class_=['progress-title', 'progress-value'])\n",
        "\n",
        "    stats = {}\n",
        "    home_team_stats = {'h/a': HOME}\n",
        "    away_team_stats = {'h/a': AWAY}\n",
        "\n",
        "    for i in range(len(stat_divs)) :\n",
        "        if (stat_divs[i].get('class')[0] != 'progress-title') : continue\n",
        "\n",
        "        home_team_stats[stat_divs[i].text] = stat_divs[i + 1].text\n",
        "        away_team_stats[stat_divs[i].text] = stat_divs[i + 2].text\n",
        "\n",
        "        if (stat_divs[i].text != 'GOALS') : continue\n",
        "\n",
        "        if (int(stat_divs[i + 1].text) > int(stat_divs[i + 2].text)) :\n",
        "            home_team_stats['RESULT'] = WON\n",
        "            away_team_stats['RESULT'] = LOST\n",
        "            home_team_stats['POINTS'] = W_PTS\n",
        "            away_team_stats['POINTS'] = L_PTS\n",
        "        elif (int(stat_divs[i + 1].text) < int(stat_divs[i + 2].text)) :\n",
        "            home_team_stats['RESULT'] = LOST\n",
        "            away_team_stats['RESULT'] = WON\n",
        "            home_team_stats['POINTS'] = L_PTS\n",
        "            away_team_stats['POINTS'] = W_PTS\n",
        "        else :\n",
        "            home_team_stats['RESULT'] = DRAW\n",
        "            away_team_stats['RESULT'] = DRAW\n",
        "            home_team_stats['POINTS'] = D_PTS\n",
        "            away_team_stats['POINTS'] = D_PTS\n",
        "\n",
        "    stats['Home Team'] = home_team_stats\n",
        "    stats['Away Team'] = away_team_stats\n",
        "\n",
        "    return stats\n",
        ""
      ]
    },
    {
      "cell_type": "code",
      "execution_count": 6,
      "metadata": {
        "id": "jcpSUibqcsSk",
        "outputId": "1bcd9f94-b210-4572-cd21-e2f84593a12e",
        "colab": {
          "base_uri": "https://localhost:8080/"
        }
      },
      "outputs": [
        {
          "output_type": "stream",
          "name": "stdout",
          "text": [
            "{'Home Team': {'h/a': 0, 'TEAMS': 'Arsenal', 'CHANCES': '58%', 'GOALS': '0', 'RESULT': 2, 'POINTS': 0, 'xG': '1.33', 'SHOTS': '22', 'SHOTS ON TARGET': '6', 'DEEP': '11', 'PPDA': '8.17', 'xPTS': '2.01'}, 'Away Team': {'h/a': 1, 'TEAMS': 'West Ham', 'CHANCES': '28%', 'GOALS': '2', 'RESULT': 1, 'POINTS': 3, 'xG': '0.54', 'SHOTS': '8', 'SHOTS ON TARGET': '4', 'DEEP': '0', 'PPDA': '12.45', 'xPTS': '0.71'}}\n"
          ]
        }
      ],
      "source": [
        "print(get_match_stat('88'))"
      ]
    },
    {
      "cell_type": "code",
      "execution_count": 7,
      "metadata": {
        "id": "djsQTyPncsSl"
      },
      "outputs": [],
      "source": [
        "def get_match_ids(url : str) :\n",
        "    res = requests.get(url)\n",
        "\n",
        "    soup = BeautifulSoup(res.content, 'lxml')\n",
        "    scripts = soup.find_all('script')\n",
        "    strings = scripts[1].string\n",
        "\n",
        "    ind_start = strings.index(\"('\") + 2\n",
        "    ind_end = strings.index(\"')\")\n",
        "\n",
        "    json_data = strings[ind_start : ind_end]\n",
        "    json_data = json_data.encode('utf8').decode('unicode_escape')\n",
        "\n",
        "    data = json.loads(json_data)\n",
        "\n",
        "    ids = []\n",
        "\n",
        "    for game in data :\n",
        "        if (not game['isResult']) : break\n",
        "\n",
        "        ids.append(game['id'])\n",
        "\n",
        "    return ids\n"
      ]
    },
    {
      "cell_type": "code",
      "execution_count": 8,
      "metadata": {
        "id": "BK5nRDV5csSl",
        "outputId": "b2077767-9adf-4992-e329-78c25ed4aaef",
        "colab": {
          "base_uri": "https://localhost:8080/"
        }
      },
      "outputs": [
        {
          "output_type": "stream",
          "name": "stdout",
          "text": [
            "['16376', '16377', '16378', '16379', '16380', '16381', '16382', '16383', '16384', '16385', '16386', '16387', '16388', '16389', '16390', '16391', '16392', '16393', '16394', '16395', '16396', '16397', '16398', '16399', '16400', '16401', '16402', '16403', '16404', '16405', '16406', '16407', '16408', '16409', '16410', '16411', '16412', '16413', '16414', '16415', '16416', '16417', '16418', '16419', '16420', '16421', '16422', '16423', '16424', '16425', '16426', '16431', '16427', '16428', '16429', '16430', '16432', '16433', '16434', '16435', '16442', '16437', '16438', '16440', '16445', '16436', '16439', '16443', '16444', '16441', '16455', '16447', '16450', '16451', '16453', '16454', '16448', '16449', '16452', '16446', '16456', '16459', '16460', '16461', '16462', '16464', '16458', '16457', '16465', '16463', '16468', '16467', '16469', '16470', '16471', '16474', '16473', '16472', '16466', '16475', '16484', '16483', '16477', '16479', '16480', '16478', '16476', '16481', '16482', '16485', '16488', '16486', '16487', '16491', '16492', '16494', '16495', '16489', '16490', '16493', '16496', '16501', '16503', '16505', '16498', '16497', '16502', '16504', '16500', '16513', '16508', '16509', '16510', '16511', '16514', '16506', '16507', '16515', '16512', '16524', '16520', '16521', '16525', '16523', '16518', '16519', '16522', '16516', '16517', '16527', '16534', '16526', '16530', '16533', '16535', '16529', '16532', '16531', '16541', '16545', '16538', '16542', '16536', '16543', '16544', '16548', '16555', '16550', '16552', '16560', '16562', '16563', '16564', '16556', '16557', '16561', '16569', '16570', '16575', '16573', '16568', '16567', '16574', '16576', '16585', '16579', '16577', '16580', '16581', '16578', '16583', '16551', '16554', '16587', '16590', '16591', '16592', '16595', '16586', '16589', '16594', '16607', '16540', '16537', '16605', '16600', '16597', '16601', '16603', '16604', '16596', '16599', '16602', '16598', '16539', '16610', '16612', '16608', '16609', '16613', '16615', '16606', '16611', '16614', '16621', '16616', '16619', '16625', '16623', '16617', '16622', '16624', '16620', '16549', '16634', '16626', '16627', '16628', '16629', '16631', '16633', '16632', '16630', '16635', '16499', '16553', '16559', '16566', '16644', '16642', '16637', '16640', '16643', '16638', '16641', '16645', '16588', '16648', '16646', '16647', '16651', '16652', '16655', '16649', '16654', '16650', '16653', '16565', '16584', '16672', '16572', '16658', '16657', '16663', '16659', '16661', '16662', '16664', '16665', '16656', '16660', '16528', '16636', '16571', '16675', '16666', '16668', '16673', '16680', '16676', '16681', '16683', '16684', '16685', '16679', '16677', '16678', '16682', '16558', '16689', '16692', '16686', '16687', '16695', '16694', '16688', '16691', '16693', '16690', '16699', '16698', '16700', '16702', '16697', '16701', '16669', '16547', '16618', '16671', '16670', '16667', '16715', '16706', '16707', '16709', '16714', '16711', '16712', '16713', '16708', '16710', '16742', '16721', '16716', '16718', '16720', '16725', '16723', '16719', '16724', '16717', '16722', '16730', '16731', '16732', '16734', '16733', '16728', '16726', '16729', '16735', '16727', '16705', '16703', '16582', '16674', '16696', '16593', '16739', '16736', '16737', '16738', '16743', '16745', '16744', '16741', '16740', '16704', '16546', '16639', '16746', '16747', '16748', '16749', '16750', '16751', '16752', '16753', '16754', '16755']\n"
          ]
        }
      ],
      "source": [
        "print((get_match_ids(understat['21/22']['EPL'])))"
      ]
    },
    {
      "cell_type": "code",
      "execution_count": 9,
      "metadata": {
        "id": "6MnbG8wJcsSl"
      },
      "outputs": [],
      "source": [
        "def gather(league : str) :\n",
        "    ids = []\n",
        "    for key, value in understat.items() :\n",
        "        if (key == 'match_link') : continue\n",
        "        ids = ids + get_match_ids(value[league])\n",
        "    return ids\n",
        "\n",
        "EPL_ids = gather('EPL')\n",
        "Serie_A_ids = gather('Serie A')\n",
        "La_Liga_ids = gather('La liga')\n",
        "Bundes_ids = gather('Bundesliga')\n",
        "Ligue1_ids = gather('Ligue 1')\n",
        "\n",
        "all_ids = EPL_ids + Serie_A_ids + La_Liga_ids + Bundes_ids + Ligue1_ids"
      ]
    },
    {
      "cell_type": "code",
      "execution_count": 10,
      "metadata": {
        "id": "fmpyrgOhcsSl",
        "outputId": "3beb03da-6012-4208-c2ec-bea0597e34d6",
        "colab": {
          "base_uri": "https://localhost:8080/"
        }
      },
      "outputs": [
        {
          "output_type": "stream",
          "name": "stdout",
          "text": [
            "3420 / 3420 / 3420 / 2754 / 3319\n",
            "Total: 16333\n"
          ]
        }
      ],
      "source": [
        "print(len(EPL_ids), len(Serie_A_ids), len(La_Liga_ids), len(Bundes_ids), len(Ligue1_ids), sep=' / ')\n",
        "print('Total:', len(all_ids))"
      ]
    },
    {
      "cell_type": "code",
      "execution_count": 11,
      "metadata": {
        "id": "f_Vr_VSpcsSl"
      },
      "outputs": [],
      "source": [
        "class Club :\n",
        "    def __init__(self, club : str) :\n",
        "        self.index = 0\n",
        "        self.last_5, self.last_10, self.last_15, self.last_25, self.last_38 = [], [], [], [], []\n",
        "        self.club = club\n",
        "\n",
        "    def push_stat(self, stat) :\n",
        "        if (self.index >= 5) :\n",
        "            self.last_5.pop()\n",
        "        self.last_5.append(stat)\n",
        "\n",
        "        if (self.index >= 10) :\n",
        "            self.last_10.pop()\n",
        "        self.last_10.append(stat)\n",
        "\n",
        "        if (self.index >= 15) :\n",
        "            self.last_15.pop()\n",
        "        self.last_15.append(stat)\n",
        "\n",
        "        if (self.index >= 25) :\n",
        "            self.last_25.pop()\n",
        "        self.last_25.append(stat)\n",
        "\n",
        "        if (self.index >= 38) :\n",
        "            self.last_38.pop()\n",
        "        self.last_38.append(stat)\n",
        "\n",
        "        self.index += 1\n",
        "\n",
        "    def summarize_last_5(self) :\n",
        "        sum_last_5 = [0, 0, 0, 0, 0, 0, 0, 0, 0, 0]\n",
        "        for stat in self.last_5 :\n",
        "            for i in range(len(stat)) :\n",
        "                sum_last_5[i] += stat[i]\n",
        "        for i in range(len(sum_last_5)) :\n",
        "            sum_last_5[i] /= len(self.last_5)\n",
        "        return sum_last_5\n",
        "    def summarize_last_10(self) :\n",
        "        sum_last_10 = [0, 0, 0, 0, 0, 0, 0, 0, 0, 0]\n",
        "        for stat in self.last_10 :\n",
        "            for i in range(len(stat)) :\n",
        "                sum_last_10[i] += stat[i]\n",
        "        for i in range(len(sum_last_10)) :\n",
        "            sum_last_10[i] /= len(self.last_10)\n",
        "        return sum_last_10\n",
        "    def summarize_last_15(self) :\n",
        "        sum_last_15 = [0, 0, 0, 0, 0, 0, 0, 0, 0, 0]\n",
        "        for stat in self.last_15 :\n",
        "            for i in range(len(stat)) :\n",
        "                sum_last_15[i] += stat[i]\n",
        "        for i in range(len(sum_last_15)) :\n",
        "            sum_last_15[i] /= len(self.last_15)\n",
        "        return sum_last_15\n",
        "    def summarize_last_25(self) :\n",
        "        sum_last_25 = [0, 0, 0, 0, 0, 0, 0, 0, 0, 0]\n",
        "        for stat in self.last_25 :\n",
        "            for i in range(len(stat)) :\n",
        "                sum_last_25[i] += stat[i]\n",
        "        for i in range(len(sum_last_25)) :\n",
        "            sum_last_25[i] /= len(self.last_25)\n",
        "        return sum_last_25\n",
        "    def summarize_last_38(self) :\n",
        "        sum_last_38 = [0, 0, 0, 0, 0, 0, 0, 0, 0, 0]\n",
        "        for stat in self.last_38 :\n",
        "            for i in range(len(stat)) :\n",
        "                sum_last_38[i] += stat[i]\n",
        "        for i in range(len(sum_last_38)) :\n",
        "            sum_last_38[i] /= len(self.last_38)\n",
        "        return sum_last_38\n",
        "\n",
        "    def ready(self) :\n",
        "        if (len(self.last_38) == 38) : return True\n",
        "        return False\n",
        "\n",
        "    def get_stat(self) :\n",
        "        return self.last_5 + self.last_10 + self.last_15 + self.last_25 + self.last_38\n"
      ]
    },
    {
      "cell_type": "code",
      "execution_count": 12,
      "metadata": {
        "id": "xtbBQMtGcsSm",
        "outputId": "a1929bfe-099e-447e-957c-a376beb34f37",
        "colab": {
          "base_uri": "https://localhost:8080/"
        }
      },
      "outputs": [
        {
          "output_type": "stream",
          "name": "stdout",
          "text": [
            "['Cagliari', 'Juventus', 'Monza', 'Newcastle United', 'Verona', 'Fulham', 'Huddersfield', 'SD Huesca', 'Bochum', 'Clermont Foot', 'Ingolstadt', 'Salernitana', 'Venezia', 'Marseille', 'Toulouse', 'Sporting Gijon', 'Crystal Palace', 'Leeds', 'Hannover 96', 'Cadiz', 'Amiens', 'Crotone', 'Mallorca', 'Metz', 'Rayo Vallecano', 'Sassuolo', 'Nottingham Forest', 'FC Cologne', 'Getafe', 'Bayer Leverkusen', 'Deportivo La Coruna', 'Hamburger SV', 'Angers', 'Rennes', 'Granada', 'Roma', 'Almeria', 'Empoli', 'Bologna', 'Barcelona', 'Wolfsburg', 'Hertha Berlin', 'Brighton', 'Paris Saint Germain', 'Parma Calcio 1913', 'Nice', 'Hoffenheim', 'Levante', 'SPAL 2013', 'Leicester', 'Paderborn', 'Union Berlin', 'Greuther Fuerth', 'Arsenal', 'Benevento', 'Borussia Dortmund', 'Borussia M.Gladbach', 'Arminia Bielefeld', 'Atalanta', 'Mainz 05', 'Manchester United', 'Burnley', 'AC Milan', 'Celta Vigo', 'Leganes', 'Nancy', 'Lorient', 'Nuernberg', 'Cordoba', 'VfB Stuttgart', 'SC Bastia', 'Eintracht Frankfurt', 'Carpi', 'Bayern Munich', 'Watford', 'Bordeaux', 'Brescia', 'Sevilla', 'Valencia', 'Genoa', 'Cremonese', 'Lille', 'Sampdoria', 'Nimes', 'Pescara', 'Troyes', 'Palermo', 'Caen', 'Auxerre', 'Real Sociedad', 'Chelsea', 'Everton', 'Osasuna', 'Real Betis', 'Frosinone', 'Reims', 'Norwich', 'Werder Bremen', 'Alaves', 'Parma', 'Freiburg', 'Sheffield United', 'Eibar', 'Lens', 'Udinese', 'Strasbourg', 'Villarreal', 'Las Palmas', 'Swansea', 'Atletico Madrid', 'Nantes', 'GFC Ajaccio', 'Brest', 'Cardiff', 'Spezia', 'Fortuna Duesseldorf', 'Liverpool', 'Dijon', 'Evian Thonon Gaillard', 'Darmstadt', 'Elche', 'Real Valladolid', 'Middlesbrough', 'Manchester City', 'Inter', 'Aston Villa', 'Chievo', 'Lyon', 'Stoke', 'Fiorentina', 'Guingamp', 'Queens Park Rangers', 'Monaco', 'RasenBallsport Leipzig', 'Saint-Etienne', 'Lazio', 'Schalke 04', 'Ajaccio', 'Girona', 'Tottenham', 'Brentford', 'Southampton', 'Espanyol', 'Torino', 'Athletic Club', 'Real Madrid', 'West Bromwich Albion', 'Malaga', 'Napoli', 'Hull', 'Bournemouth', 'Augsburg', 'Sunderland', 'Cesena', 'West Ham', 'Lecce', 'Wolverhampton Wanderers', 'Montpellier']\n"
          ]
        }
      ],
      "source": [
        "def get_all_clubs(url) :\n",
        "    clubs = []\n",
        "    res = requests.get(url)\n",
        "\n",
        "    soup = BeautifulSoup(res.content, 'lxml')\n",
        "    scripts = soup.find_all('script')\n",
        "    strings = scripts[1].string\n",
        "\n",
        "    ind_start = strings.index(\"('\") + 2\n",
        "    ind_end = strings.index(\"')\")\n",
        "\n",
        "    json_data = strings[ind_start : ind_end]\n",
        "    json_data = json_data.encode('utf8').decode('unicode_escape')\n",
        "\n",
        "    data = json.loads(json_data)\n",
        "    for i in range(10) :\n",
        "        clubs.append(data[i]['h']['title'])\n",
        "        clubs.append(data[i]['a']['title'])\n",
        "    return set(clubs)\n",
        "\n",
        "all_clubs = []\n",
        "for key, value in understat.items() :\n",
        "    if (key == 'match_link') : continue\n",
        "    for name, link in value.items() :\n",
        "        all_clubs = all_clubs + list(get_all_clubs(link))\n",
        "all_clubs = set(all_clubs)\n",
        "print(list(all_clubs))"
      ]
    },
    {
      "cell_type": "code",
      "execution_count": 13,
      "metadata": {
        "id": "SBs9JXWQcsSm",
        "outputId": "17ee57be-9dd7-4e73-80a4-ebd87a5bc976",
        "colab": {
          "base_uri": "https://localhost:8080/"
        }
      },
      "outputs": [
        {
          "output_type": "stream",
          "name": "stdout",
          "text": [
            "158\n"
          ]
        }
      ],
      "source": [
        "print(len(all_clubs))"
      ]
    },
    {
      "cell_type": "code",
      "execution_count": 14,
      "metadata": {
        "id": "sUzhQgiGcsSm",
        "outputId": "dfdf5546-53be-4668-b302-78e63642f701",
        "colab": {
          "base_uri": "https://localhost:8080/"
        }
      },
      "outputs": [
        {
          "output_type": "stream",
          "name": "stdout",
          "text": [
            "{'Cagliari': <__main__.Club object at 0x7dae75f479a0>, 'Juventus': <__main__.Club object at 0x7dae75f44220>, 'Monza': <__main__.Club object at 0x7dae75f47e50>, 'Newcastle United': <__main__.Club object at 0x7dae75f444c0>, 'Verona': <__main__.Club object at 0x7dae75f44760>, 'Fulham': <__main__.Club object at 0x7dae75f444f0>, 'Huddersfield': <__main__.Club object at 0x7dae75f47ca0>, 'SD Huesca': <__main__.Club object at 0x7dae75f478b0>, 'Bochum': <__main__.Club object at 0x7dae75f456c0>, 'Clermont Foot': <__main__.Club object at 0x7dae75f45b10>, 'Ingolstadt': <__main__.Club object at 0x7dae75f44af0>, 'Salernitana': <__main__.Club object at 0x7dae75f44850>, 'Venezia': <__main__.Club object at 0x7dae75f446a0>, 'Marseille': <__main__.Club object at 0x7dae75f44f70>, 'Toulouse': <__main__.Club object at 0x7dae75f44430>, 'Sporting Gijon': <__main__.Club object at 0x7dae75f45930>, 'Crystal Palace': <__main__.Club object at 0x7dae75f47b50>, 'Leeds': <__main__.Club object at 0x7dae75f44e50>, 'Hannover 96': <__main__.Club object at 0x7dae75f44280>, 'Cadiz': <__main__.Club object at 0x7dae75f443a0>, 'Amiens': <__main__.Club object at 0x7dae75f441f0>, 'Crotone': <__main__.Club object at 0x7dae75f45570>, 'Mallorca': <__main__.Club object at 0x7dae75f44310>, 'Metz': <__main__.Club object at 0x7dae75f442e0>, 'Rayo Vallecano': <__main__.Club object at 0x7dae75f45150>, 'Sassuolo': <__main__.Club object at 0x7dae75f47820>, 'Nottingham Forest': <__main__.Club object at 0x7dae75f44670>, 'FC Cologne': <__main__.Club object at 0x7dae75f445b0>, 'Getafe': <__main__.Club object at 0x7dae75f44b50>, 'Bayer Leverkusen': <__main__.Club object at 0x7dae75f449a0>, 'Deportivo La Coruna': <__main__.Club object at 0x7dae75f47a60>, 'Hamburger SV': <__main__.Club object at 0x7dae75f45870>, 'Angers': <__main__.Club object at 0x7dae75f47c10>, 'Rennes': <__main__.Club object at 0x7dae75f45420>, 'Granada': <__main__.Club object at 0x7dae75f45a50>, 'Roma': <__main__.Club object at 0x7dae75f45480>, 'Almeria': <__main__.Club object at 0x7dae75f455a0>, 'Empoli': <__main__.Club object at 0x7dae75f45600>, 'Bologna': <__main__.Club object at 0x7dae75f454e0>, 'Barcelona': <__main__.Club object at 0x7dae75f45540>, 'Wolfsburg': <__main__.Club object at 0x7dae75f47dc0>, 'Hertha Berlin': <__main__.Club object at 0x7dae75f47d00>, 'Brighton': <__main__.Club object at 0x7dae75f440d0>, 'Paris Saint Germain': <__main__.Club object at 0x7dae75f440a0>, 'Parma Calcio 1913': <__main__.Club object at 0x7dae75f44130>, 'Nice': <__main__.Club object at 0x7dae75f44c10>, 'Hoffenheim': <__main__.Club object at 0x7dae75f44100>, 'Levante': <__main__.Club object at 0x7dae75f44160>, 'SPAL 2013': <__main__.Club object at 0x7dae75f47910>, 'Leicester': <__main__.Club object at 0x7dae75f44e80>, 'Paderborn': <__main__.Club object at 0x7dae75f44f40>, 'Union Berlin': <__main__.Club object at 0x7dae75f47d90>, 'Greuther Fuerth': <__main__.Club object at 0x7dae75f47cd0>, 'Arsenal': <__main__.Club object at 0x7dae75f47a30>, 'Benevento': <__main__.Club object at 0x7dae75f47c70>, 'Borussia Dortmund': <__main__.Club object at 0x7dae75f45660>, 'Borussia M.Gladbach': <__main__.Club object at 0x7dae75f453c0>, 'Arminia Bielefeld': <__main__.Club object at 0x7dae75f458d0>, 'Atalanta': <__main__.Club object at 0x7dae75f456f0>, 'Mainz 05': <__main__.Club object at 0x7dae75f45240>, 'Manchester United': <__main__.Club object at 0x7dae75f451b0>, 'Burnley': <__main__.Club object at 0x7dae75f446d0>, 'AC Milan': <__main__.Club object at 0x7dae75f45960>, 'Celta Vigo': <__main__.Club object at 0x7dae75f45a20>, 'Leganes': <__main__.Club object at 0x7dae75f47af0>, 'Nancy': <__main__.Club object at 0x7dae75f44c70>, 'Lorient': <__main__.Club object at 0x7dae75f45510>, 'Nuernberg': <__main__.Club object at 0x7dae75f47d30>, 'Cordoba': <__main__.Club object at 0x7dae75f44b20>, 'VfB Stuttgart': <__main__.Club object at 0x7dae75f47d60>, 'SC Bastia': <__main__.Club object at 0x7dae75f47b80>, 'Eintracht Frankfurt': <__main__.Club object at 0x7dae75f44640>, 'Carpi': <__main__.Club object at 0x7dae75f44580>, 'Bayern Munich': <__main__.Club object at 0x7dae75f47f10>, 'Watford': <__main__.Club object at 0x7dae75f45060>, 'Bordeaux': <__main__.Club object at 0x7dae75f45360>, 'Brescia': <__main__.Club object at 0x7dae75f44fa0>, 'Sevilla': <__main__.Club object at 0x7dae75f46620>, 'Valencia': <__main__.Club object at 0x7dae75f45180>, 'Genoa': <__main__.Club object at 0x7dae75a41210>, 'Cremonese': <__main__.Club object at 0x7dae75a40f40>, 'Lille': <__main__.Club object at 0x7dae75a41150>, 'Sampdoria': <__main__.Club object at 0x7dae75a431f0>, 'Nimes': <__main__.Club object at 0x7dae75a40df0>, 'Pescara': <__main__.Club object at 0x7dae75a43df0>, 'Troyes': <__main__.Club object at 0x7dae75a43f40>, 'Palermo': <__main__.Club object at 0x7dae75a43c70>, 'Caen': <__main__.Club object at 0x7dae75a435b0>, 'Auxerre': <__main__.Club object at 0x7dae75a41930>, 'Real Sociedad': <__main__.Club object at 0x7dae75a43dc0>, 'Chelsea': <__main__.Club object at 0x7dae75a43a90>, 'Everton': <__main__.Club object at 0x7dae75a41330>, 'Osasuna': <__main__.Club object at 0x7dae75a41360>, 'Real Betis': <__main__.Club object at 0x7dae75a42920>, 'Frosinone': <__main__.Club object at 0x7dae75a41240>, 'Reims': <__main__.Club object at 0x7dae75a43af0>, 'Norwich': <__main__.Club object at 0x7dae75a43700>, 'Werder Bremen': <__main__.Club object at 0x7dae75a427d0>, 'Alaves': <__main__.Club object at 0x7dae75a43100>, 'Parma': <__main__.Club object at 0x7dae75a437f0>, 'Freiburg': <__main__.Club object at 0x7dae75a433a0>, 'Sheffield United': <__main__.Club object at 0x7dae75a43cd0>, 'Eibar': <__main__.Club object at 0x7dae75a43d90>, 'Lens': <__main__.Club object at 0x7dae75a434f0>, 'Udinese': <__main__.Club object at 0x7dae75a43760>, 'Strasbourg': <__main__.Club object at 0x7dae75a43520>, 'Villarreal': <__main__.Club object at 0x7dae75a410c0>, 'Las Palmas': <__main__.Club object at 0x7dae75a43940>, 'Swansea': <__main__.Club object at 0x7dae75a43970>, 'Atletico Madrid': <__main__.Club object at 0x7dae75a43e20>, 'Nantes': <__main__.Club object at 0x7dae75a43ca0>, 'GFC Ajaccio': <__main__.Club object at 0x7dae75a432e0>, 'Brest': <__main__.Club object at 0x7dae75a43be0>, 'Cardiff': <__main__.Club object at 0x7dae75a43160>, 'Spezia': <__main__.Club object at 0x7dae75a43340>, 'Fortuna Duesseldorf': <__main__.Club object at 0x7dae75a43310>, 'Liverpool': <__main__.Club object at 0x7dae75a43400>, 'Dijon': <__main__.Club object at 0x7dae75a43c10>, 'Evian Thonon Gaillard': <__main__.Club object at 0x7dae75a43730>, 'Darmstadt': <__main__.Club object at 0x7dae75a433d0>, 'Elche': <__main__.Club object at 0x7dae75a43e50>, 'Real Valladolid': <__main__.Club object at 0x7dae75a40bb0>, 'Middlesbrough': <__main__.Club object at 0x7dae761298a0>, 'Manchester City': <__main__.Club object at 0x7dae761297e0>, 'Inter': <__main__.Club object at 0x7dae76129c00>, 'Aston Villa': <__main__.Club object at 0x7dae76129c30>, 'Chievo': <__main__.Club object at 0x7dae76129750>, 'Lyon': <__main__.Club object at 0x7dae76129bd0>, 'Stoke': <__main__.Club object at 0x7dae76128850>, 'Fiorentina': <__main__.Club object at 0x7dae76128640>, 'Guingamp': <__main__.Club object at 0x7dae76129a50>, 'Queens Park Rangers': <__main__.Club object at 0x7dae761294b0>, 'Monaco': <__main__.Club object at 0x7dae76129b40>, 'RasenBallsport Leipzig': <__main__.Club object at 0x7dae761292d0>, 'Saint-Etienne': <__main__.Club object at 0x7dae76129870>, 'Lazio': <__main__.Club object at 0x7dae761290c0>, 'Schalke 04': <__main__.Club object at 0x7dae76129390>, 'Ajaccio': <__main__.Club object at 0x7dae76129b70>, 'Girona': <__main__.Club object at 0x7dae76129930>, 'Tottenham': <__main__.Club object at 0x7dae761294e0>, 'Brentford': <__main__.Club object at 0x7dae761299f0>, 'Southampton': <__main__.Club object at 0x7dae76128910>, 'Espanyol': <__main__.Club object at 0x7dae76129420>, 'Torino': <__main__.Club object at 0x7dae761299c0>, 'Athletic Club': <__main__.Club object at 0x7dae761293f0>, 'Real Madrid': <__main__.Club object at 0x7dae7612a200>, 'West Bromwich Albion': <__main__.Club object at 0x7dae7612a320>, 'Malaga': <__main__.Club object at 0x7dae7612bbe0>, 'Napoli': <__main__.Club object at 0x7dae7612bee0>, 'Hull': <__main__.Club object at 0x7dae7612bfa0>, 'Bournemouth': <__main__.Club object at 0x7dae7612bfd0>, 'Augsburg': <__main__.Club object at 0x7dae7612bf70>, 'Sunderland': <__main__.Club object at 0x7dae7612bf40>, 'Cesena': <__main__.Club object at 0x7dae7612bd00>, 'West Ham': <__main__.Club object at 0x7dae7612bf10>, 'Lecce': <__main__.Club object at 0x7dae7612be80>, 'Wolverhampton Wanderers': <__main__.Club object at 0x7dae7612beb0>, 'Montpellier': <__main__.Club object at 0x7dae7612be50>}\n"
          ]
        }
      ],
      "source": [
        "all_club_dict = {}\n",
        "\n",
        "for club in all_clubs :\n",
        "    all_club_dict[club] = Club(club)\n",
        "\n",
        "print(all_club_dict)"
      ]
    },
    {
      "cell_type": "code",
      "execution_count": 15,
      "metadata": {
        "id": "N7NrkHzKcsSm"
      },
      "outputs": [],
      "source": [
        "def format_stats(stat) :\n",
        "    game = {}\n",
        "\n",
        "    game[stat['Home Team']['TEAMS']] = []\n",
        "    game[stat['Away Team']['TEAMS']] = []\n",
        "\n",
        "    game[stat['Home Team']['TEAMS']].append(stat['Home Team']['h/a'])\n",
        "    if (stat['Home Team']['CHANCES'] != '') :\n",
        "        game[stat['Home Team']['TEAMS']].append(float(stat['Home Team']['CHANCES'][0:len(stat['Home Team']['CHANCES']) - 1]) / 100)\n",
        "    else :\n",
        "        game[stat['Home Team']['TEAMS']].append(0)\n",
        "    game[stat['Home Team']['TEAMS']].append(float(stat['Home Team']['GOALS']) / 10)\n",
        "    game[stat['Home Team']['TEAMS']].append(float(stat['Home Team']['POINTS']) / 3)\n",
        "    game[stat['Home Team']['TEAMS']].append(float(stat['Home Team']['xG']) / 10)\n",
        "    game[stat['Home Team']['TEAMS']].append(float(stat['Home Team']['SHOTS']) / 100)\n",
        "    if (stat['Home Team']['SHOTS'] == '0') :\n",
        "        game[stat['Home Team']['TEAMS']].append(0)\n",
        "    else :\n",
        "        game[stat['Home Team']['TEAMS']].append(float(stat['Home Team']['SHOTS ON TARGET']) / float(stat['Home Team']['SHOTS']))\n",
        "    game[stat['Home Team']['TEAMS']].append(float(stat['Home Team']['DEEP']) / 50)\n",
        "    game[stat['Home Team']['TEAMS']].append(float(stat['Home Team']['PPDA']) / 50)\n",
        "    game[stat['Home Team']['TEAMS']].append(float(stat['Home Team']['xPTS']) / 3)\n",
        "\n",
        "    game[stat['Away Team']['TEAMS']].append(stat['Away Team']['h/a'])\n",
        "    if (stat['Away Team']['CHANCES'] != '') :\n",
        "        game[stat['Away Team']['TEAMS']].append(float(stat['Away Team']['CHANCES'][0:len(stat['Away Team']['CHANCES']) - 1]) / 100)\n",
        "    else :\n",
        "        game[stat['Away Team']['TEAMS']].append(0)\n",
        "    game[stat['Away Team']['TEAMS']].append(float(stat['Away Team']['GOALS']) / 10)\n",
        "    game[stat['Away Team']['TEAMS']].append(float(stat['Away Team']['POINTS']) / 3)\n",
        "    game[stat['Away Team']['TEAMS']].append(float(stat['Away Team']['xG']) / 10)\n",
        "    game[stat['Away Team']['TEAMS']].append(float(stat['Away Team']['SHOTS']) / 100)\n",
        "    if (stat['Away Team']['SHOTS'] == '0') :\n",
        "        game[stat['Away Team']['TEAMS']].append(0)\n",
        "    else :\n",
        "        game[stat['Away Team']['TEAMS']].append(float(stat['Away Team']['SHOTS ON TARGET']) / float(stat['Away Team']['SHOTS']))\n",
        "    game[stat['Away Team']['TEAMS']].append(float(stat['Away Team']['DEEP']) / 50)\n",
        "    game[stat['Away Team']['TEAMS']].append(float(stat['Away Team']['PPDA']) / 50)\n",
        "    game[stat['Away Team']['TEAMS']].append(float(stat['Away Team']['xPTS']) / 3)\n",
        "\n",
        "    return game"
      ]
    },
    {
      "cell_type": "code",
      "execution_count": 16,
      "metadata": {
        "id": "qw6OXIcGcsSn"
      },
      "outputs": [],
      "source": [
        "input, label = [], []\n",
        "res = 0\n",
        "\n",
        "for id in all_ids:\n",
        "    game = get_match_stat(id)\n",
        "    if (game.get('Home Team').get('RESULT') == None) : continue\n",
        "    res = game['Home Team']['RESULT']\n",
        "    game = format_stats(game)\n",
        "\n",
        "    home_team = list(game.items())[0][0]\n",
        "    away_team = list(game.items())[1][0]\n",
        "\n",
        "    if (all_club_dict[home_team].ready() and all_club_dict[away_team].ready()) :\n",
        "        input.append(all_club_dict[home_team].summarize_last_5()\n",
        "            + all_club_dict[home_team].summarize_last_10()\n",
        "            + all_club_dict[home_team].summarize_last_15()\n",
        "            + all_club_dict[home_team].summarize_last_25()\n",
        "            + all_club_dict[home_team].summarize_last_38()\n",
        "            + all_club_dict[away_team].summarize_last_5()\n",
        "            + all_club_dict[away_team].summarize_last_10()\n",
        "            + all_club_dict[away_team].summarize_last_15()\n",
        "            + all_club_dict[away_team].summarize_last_25()\n",
        "            + all_club_dict[away_team].summarize_last_38()\n",
        "        )\n",
        "        label.append(res)\n",
        "\n",
        "    all_club_dict[home_team].push_stat(list(game.values())[0])\n",
        "    all_club_dict[away_team].push_stat(list(game.values())[1])"
      ]
    },
    {
      "cell_type": "code",
      "execution_count": 17,
      "metadata": {
        "id": "cog3v1zkcsSn"
      },
      "outputs": [],
      "source": [
        "input = np.array(input)\n",
        "label = np.array(label)"
      ]
    },
    {
      "cell_type": "code",
      "execution_count": 18,
      "metadata": {
        "id": "HeQZhJI7csSn"
      },
      "outputs": [],
      "source": [
        "model = tf.keras.models.Sequential([\n",
        "    tf.keras.layers.Dense(128, input_shape=(100,)),\n",
        "    tf.keras.layers.Dense(128, activation='relu', kernel_regularizer=tf.keras.regularizers.l2(0.01)),\n",
        "    tf.keras.layers.Dropout(0.4),\n",
        "    tf.keras.layers.Dense(64, activation='relu', kernel_regularizer=tf.keras.regularizers.l2(0.01)),\n",
        "    tf.keras.layers.Dropout(0.4),\n",
        "    tf.keras.layers.Dense(64, activation='relu', kernel_regularizer=tf.keras.regularizers.l2(0.01)),\n",
        "    tf.keras.layers.Dropout(0.4),\n",
        "    tf.keras.layers.Dense(3, activation='softmax')\n",
        "])\n",
        "\n",
        "EarlyStopping = tf.keras.callbacks.EarlyStopping(monitor='val_loss', patience=5, restore_best_weights=True)\n",
        "\n",
        "model.compile(optimizer='Adam', loss='sparse_categorical_crossentropy', metrics=['accuracy'])"
      ]
    },
    {
      "cell_type": "code",
      "execution_count": 19,
      "metadata": {
        "id": "bziiw59zcsSn",
        "outputId": "e5d8e59b-7c88-4369-fb2c-00825c943883",
        "colab": {
          "base_uri": "https://localhost:8080/"
        }
      },
      "outputs": [
        {
          "output_type": "stream",
          "name": "stdout",
          "text": [
            "Model: \"sequential\"\n",
            "_________________________________________________________________\n",
            " Layer (type)                Output Shape              Param #   \n",
            "=================================================================\n",
            " dense (Dense)               (None, 128)               12928     \n",
            "                                                                 \n",
            " dense_1 (Dense)             (None, 128)               16512     \n",
            "                                                                 \n",
            " dropout (Dropout)           (None, 128)               0         \n",
            "                                                                 \n",
            " dense_2 (Dense)             (None, 64)                8256      \n",
            "                                                                 \n",
            " dropout_1 (Dropout)         (None, 64)                0         \n",
            "                                                                 \n",
            " dense_3 (Dense)             (None, 64)                4160      \n",
            "                                                                 \n",
            " dropout_2 (Dropout)         (None, 64)                0         \n",
            "                                                                 \n",
            " dense_4 (Dense)             (None, 3)                 195       \n",
            "                                                                 \n",
            "=================================================================\n",
            "Total params: 42051 (164.26 KB)\n",
            "Trainable params: 42051 (164.26 KB)\n",
            "Non-trainable params: 0 (0.00 Byte)\n",
            "_________________________________________________________________\n"
          ]
        }
      ],
      "source": [
        "model.summary()"
      ]
    },
    {
      "cell_type": "code",
      "execution_count": 20,
      "metadata": {
        "id": "qQ7Jn9zkcsSn",
        "outputId": "2ab7b552-c951-4aa2-b6ec-ee83fc508f9c",
        "colab": {
          "base_uri": "https://localhost:8080/"
        }
      },
      "outputs": [
        {
          "output_type": "stream",
          "name": "stdout",
          "text": [
            "(12286, 100) (12286,)\n"
          ]
        }
      ],
      "source": [
        "print(input.shape, label.shape)"
      ]
    },
    {
      "cell_type": "code",
      "execution_count": 21,
      "metadata": {
        "id": "n_zDIYGxcsSo",
        "outputId": "fc847465-6ed7-447d-921f-4a74e42554df",
        "colab": {
          "base_uri": "https://localhost:8080/"
        }
      },
      "outputs": [
        {
          "output_type": "stream",
          "name": "stdout",
          "text": [
            "Epoch 1/50\n",
            "615/615 [==============================] - 5s 6ms/step - loss: 1.5411 - accuracy: 0.4713 - val_loss: 1.0893 - val_accuracy: 0.4863\n",
            "Epoch 2/50\n",
            "615/615 [==============================] - 2s 3ms/step - loss: 1.0602 - accuracy: 0.4967 - val_loss: 1.0463 - val_accuracy: 0.4857\n",
            "Epoch 3/50\n",
            "615/615 [==============================] - 2s 3ms/step - loss: 1.0442 - accuracy: 0.4978 - val_loss: 1.0435 - val_accuracy: 0.4887\n",
            "Epoch 4/50\n",
            "615/615 [==============================] - 2s 3ms/step - loss: 1.0423 - accuracy: 0.4974 - val_loss: 1.0391 - val_accuracy: 0.4883\n",
            "Epoch 5/50\n",
            "615/615 [==============================] - 2s 3ms/step - loss: 1.0411 - accuracy: 0.4949 - val_loss: 1.0419 - val_accuracy: 0.4891\n",
            "Epoch 6/50\n",
            "615/615 [==============================] - 2s 3ms/step - loss: 1.0371 - accuracy: 0.4976 - val_loss: 1.0351 - val_accuracy: 0.4881\n",
            "Epoch 7/50\n",
            "615/615 [==============================] - 3s 6ms/step - loss: 1.0353 - accuracy: 0.5056 - val_loss: 1.0382 - val_accuracy: 0.4793\n",
            "Epoch 8/50\n",
            "615/615 [==============================] - 2s 3ms/step - loss: 1.0383 - accuracy: 0.4971 - val_loss: 1.0386 - val_accuracy: 0.4924\n",
            "Epoch 9/50\n",
            "615/615 [==============================] - 2s 3ms/step - loss: 1.0346 - accuracy: 0.5003 - val_loss: 1.0358 - val_accuracy: 0.4891\n",
            "Epoch 10/50\n",
            "615/615 [==============================] - 2s 3ms/step - loss: 1.0329 - accuracy: 0.5001 - val_loss: 1.0335 - val_accuracy: 0.4901\n",
            "Epoch 11/50\n",
            "615/615 [==============================] - 2s 3ms/step - loss: 1.0357 - accuracy: 0.5016 - val_loss: 1.0396 - val_accuracy: 0.4936\n",
            "Epoch 12/50\n",
            "615/615 [==============================] - 2s 3ms/step - loss: 1.0340 - accuracy: 0.5016 - val_loss: 1.0335 - val_accuracy: 0.4867\n",
            "Epoch 13/50\n",
            "615/615 [==============================] - 3s 6ms/step - loss: 1.0318 - accuracy: 0.5012 - val_loss: 1.0336 - val_accuracy: 0.4926\n",
            "Epoch 14/50\n",
            "615/615 [==============================] - 2s 3ms/step - loss: 1.0319 - accuracy: 0.5045 - val_loss: 1.0322 - val_accuracy: 0.4899\n",
            "Epoch 15/50\n",
            "615/615 [==============================] - 2s 3ms/step - loss: 1.0340 - accuracy: 0.4976 - val_loss: 1.0369 - val_accuracy: 0.4905\n",
            "Epoch 16/50\n",
            "615/615 [==============================] - 2s 3ms/step - loss: 1.0318 - accuracy: 0.5005 - val_loss: 1.0321 - val_accuracy: 0.4877\n",
            "Epoch 17/50\n",
            "615/615 [==============================] - 2s 3ms/step - loss: 1.0328 - accuracy: 0.5035 - val_loss: 1.0325 - val_accuracy: 0.4903\n",
            "Epoch 18/50\n",
            "615/615 [==============================] - 3s 4ms/step - loss: 1.0320 - accuracy: 0.5037 - val_loss: 1.0323 - val_accuracy: 0.4881\n",
            "Epoch 19/50\n",
            "615/615 [==============================] - 2s 4ms/step - loss: 1.0318 - accuracy: 0.5074 - val_loss: 1.0468 - val_accuracy: 0.4576\n",
            "Epoch 20/50\n",
            "615/615 [==============================] - 2s 3ms/step - loss: 1.0297 - accuracy: 0.5005 - val_loss: 1.0345 - val_accuracy: 0.4873\n",
            "Epoch 21/50\n",
            "615/615 [==============================] - 2s 3ms/step - loss: 1.0284 - accuracy: 0.5127 - val_loss: 1.0319 - val_accuracy: 0.4812\n",
            "Epoch 22/50\n",
            "615/615 [==============================] - 2s 3ms/step - loss: 1.0319 - accuracy: 0.5017 - val_loss: 1.0342 - val_accuracy: 0.4911\n",
            "Epoch 23/50\n",
            "615/615 [==============================] - 2s 3ms/step - loss: 1.0294 - accuracy: 0.5062 - val_loss: 1.0289 - val_accuracy: 0.4891\n",
            "Epoch 24/50\n",
            "615/615 [==============================] - 3s 4ms/step - loss: 1.0295 - accuracy: 0.5035 - val_loss: 1.0308 - val_accuracy: 0.4926\n",
            "Epoch 25/50\n",
            "615/615 [==============================] - 2s 3ms/step - loss: 1.0320 - accuracy: 0.5006 - val_loss: 1.0289 - val_accuracy: 0.4924\n",
            "Epoch 26/50\n",
            "615/615 [==============================] - 2s 3ms/step - loss: 1.0293 - accuracy: 0.5058 - val_loss: 1.0388 - val_accuracy: 0.4757\n",
            "Epoch 27/50\n",
            "615/615 [==============================] - 2s 3ms/step - loss: 1.0293 - accuracy: 0.5074 - val_loss: 1.0336 - val_accuracy: 0.4922\n",
            "Epoch 28/50\n",
            "615/615 [==============================] - 2s 3ms/step - loss: 1.0308 - accuracy: 0.5032 - val_loss: 1.0312 - val_accuracy: 0.4891\n"
          ]
        }
      ],
      "source": [
        "history = model.fit(input, label, epochs=50, batch_size=12, validation_split=0.4, callbacks=[EarlyStopping])"
      ]
    },
    {
      "cell_type": "code",
      "execution_count": 22,
      "metadata": {
        "id": "yf7uejWdcsSo",
        "outputId": "24cdb10f-6444-49b4-beab-723958cd0e56",
        "colab": {
          "base_uri": "https://localhost:8080/",
          "height": 927
        }
      },
      "outputs": [
        {
          "output_type": "display_data",
          "data": {
            "text/plain": [
              "<Figure size 640x480 with 1 Axes>"
            ],
            "image/png": "[encoded data removed]"
          },
          "metadata": {}
        },
        {
          "output_type": "display_data",
          "data": {
            "text/plain": [
              "<Figure size 640x480 with 1 Axes>"
            ],
            "image/png": "[encoded data removed]"
          },
          "metadata": {}
        }
      ],
      "source": [
        "import matplotlib.pyplot as plt\n",
        "\n",
        "def plot(history):\n",
        "\n",
        "  # The history object contains results on the training and test\n",
        "  # sets for each epoch\n",
        "  acc = history.history['accuracy']\n",
        "  val_acc = history.history['val_accuracy']\n",
        "  loss = history.history['loss']\n",
        "  val_loss = history.history['val_loss']\n",
        "\n",
        "  # Get the number of epochs\n",
        "  epochs = range(len(acc))\n",
        "\n",
        "  plt.title('Training and validation accuracy')\n",
        "  plt.plot(epochs, acc, color='blue', label='Train')\n",
        "  plt.plot(epochs, val_acc, color='orange', label='Val')\n",
        "  plt.xlabel('Epoch')\n",
        "  plt.ylabel('Accuracy')\n",
        "  plt.legend()\n",
        "\n",
        "  _ = plt.figure()\n",
        "  plt.title('Training and validation loss')\n",
        "  plt.plot(epochs, loss, color='blue', label='Train')\n",
        "  plt.plot(epochs, val_loss, color='orange', label='Val')\n",
        "  plt.xlabel('Epoch')\n",
        "  plt.ylabel('Loss')\n",
        "  plt.legend()\n",
        "\n",
        "plot(history)\n"
      ]
    },
    {
      "cell_type": "code",
      "execution_count": 23,
      "metadata": {
        "id": "ptFXS3e3csSo",
        "outputId": "b19a0e7f-0e28-4729-9d0f-bd7afb9392ad",
        "colab": {
          "base_uri": "https://localhost:8080/"
        }
      },
      "outputs": [
        {
          "output_type": "stream",
          "name": "stdout",
          "text": [
            "RasenBallsport Leipzig, Atalanta, Manchester City\n"
          ]
        }
      ],
      "source": [
        "def match_names(name : str) :\n",
        "        name = name.lower()\n",
        "        closest_approximation = \"\"\n",
        "        greatest_value = -1\n",
        "\n",
        "        for club in all_clubs :\n",
        "            ratio = fuzz.ratio(name, club.lower())\n",
        "            partial_ratio = fuzz.partial_ratio(name, club.lower())\n",
        "\n",
        "            value = ratio * 0.6 + partial_ratio * 0.4\n",
        "\n",
        "            if (value > greatest_value) :\n",
        "                greatest_value = value\n",
        "                closest_approximation = club\n",
        "\n",
        "        if (greatest_value < 35) : return None\n",
        "        else : return closest_approximation\n",
        "\n",
        "print(match_names('Leipzig'), ', ', match_names('Atatata'), ', ', match_names('Man City'), sep=\"\")"
      ]
    },
    {
      "cell_type": "code",
      "execution_count": 24,
      "metadata": {
        "id": "Ds1yn0UHcsSo"
      },
      "outputs": [],
      "source": [
        "def predict(home_team, away_team) :\n",
        "    home_team = match_names(home_team)\n",
        "    away_team = match_names(away_team)\n",
        "    input = []\n",
        "\n",
        "    input.append(all_club_dict[home_team].summarize_last_5()\n",
        "            + all_club_dict[home_team].summarize_last_10()\n",
        "            + all_club_dict[home_team].summarize_last_15()\n",
        "            + all_club_dict[home_team].summarize_last_25()\n",
        "            + all_club_dict[home_team].summarize_last_38()\n",
        "            + all_club_dict[away_team].summarize_last_5()\n",
        "            + all_club_dict[away_team].summarize_last_10()\n",
        "            + all_club_dict[away_team].summarize_last_15()\n",
        "            + all_club_dict[away_team].summarize_last_25()\n",
        "            + all_club_dict[away_team].summarize_last_38()\n",
        "        )\n",
        "\n",
        "    prediction = model.predict(input)\n",
        "\n",
        "    print('DRAW chance:', \"{:.2f}\".format(prediction[0][0] * 100))\n",
        "    print(home_team, 'WIN chance:', \"{:.2f}\".format(prediction[0][1] * 100))\n",
        "    print(away_team, 'WIN chance:', \"{:.2f}\".format(prediction[0][2] * 100))"
      ]
    },
    {
      "cell_type": "code",
      "execution_count": 25,
      "metadata": {
        "id": "Ay7I24fVcsSo",
        "outputId": "7f522099-ba80-4f79-d16a-369463711ef2",
        "colab": {
          "base_uri": "https://localhost:8080/"
        }
      },
      "outputs": [
        {
          "output_type": "stream",
          "name": "stdout",
          "text": [
            "Football Match Prediction:\n",
            "\n",
            "Home Team:Lakers\n",
            "You entered: Alaves\n",
            "Away Team:Alaves\n",
            "You entered: Alaves\n",
            "1/1 [==============================] - 0s 133ms/step\n",
            "DRAW chance: 26.02\n",
            "Alaves WIN chance: 46.87\n",
            "Alaves WIN chance: 27.11\n"
          ]
        }
      ],
      "source": [
        "import builtins\n",
        "\n",
        "print(\"Football Match Prediction:\\n\")\n",
        "pred_home_team = builtins.input('Home Team:')\n",
        "print('You entered:', match_names(pred_home_team))\n",
        "pred_away_team = builtins.input('Away Team:')\n",
        "print('You entered:',  match_names(pred_away_team))\n",
        "predict(pred_home_team, pred_away_team)"
      ]
    },
    {
      "cell_type": "markdown",
      "metadata": {
        "id": "1GvTiWapcsSo"
      },
      "source": [
        "CODE FOR SAVING DATA AND QUICKLY GETTING INTO PREDICTIONS"
      ]
    },
    {
      "cell_type": "code",
      "execution_count": 26,
      "metadata": {
        "id": "niDc4lfPcsSp"
      },
      "outputs": [],
      "source": [
        "model.save('./prediction_model')"
      ]
    },
    {
      "cell_type": "code",
      "execution_count": 27,
      "metadata": {
        "id": "1pNf07NscsSp"
      },
      "outputs": [],
      "source": [
        "save_clubs = {}\n",
        "\n",
        "for club in all_clubs :\n",
        "    save_clubs[club] = [all_club_dict[club].last_5, all_club_dict[club].last_10, all_club_dict[club].last_15, all_club_dict[club].last_25, all_club_dict[club].last_38]\n",
        "\n",
        "np.save('clubs_stats_for_predictions', save_clubs)"
      ]
    },
    {
      "cell_type": "code",
      "source": [],
      "metadata": {
        "id": "Wnqheqi2doXz"
      },
      "execution_count": 27,
      "outputs": []
    },
    {
      "cell_type": "markdown",
      "metadata": {
        "id": "xaEg9_D4csSq"
      },
      "source": [
        "RUN FOLLOWING TO QUICKLY GET INTO PREDICTIONS"
      ]
    },
    {
      "cell_type": "code",
      "source": [
        "pip install fuzzywuzzy"
      ],
      "metadata": {
        "colab": {
          "base_uri": "https://localhost:8080/"
        },
        "id": "NLMZ3D-pdm9A",
        "outputId": "e8ddb13c-1074-40e2-c26a-a7db438545fe"
      },
      "execution_count": 28,
      "outputs": [
        {
          "output_type": "stream",
          "name": "stdout",
          "text": [
            "Requirement already satisfied: fuzzywuzzy in /usr/local/lib/python3.10/dist-packages (0.18.0)\n"
          ]
        }
      ]
    },
    {
      "cell_type": "code",
      "execution_count": 29,
      "metadata": {
        "id": "8cBdwF0_csSq"
      },
      "outputs": [],
      "source": [
        "import requests\n",
        "from bs4 import BeautifulSoup\n",
        "import tensorflow as tf\n",
        "import json\n",
        "import numpy as np\n",
        "from fuzzywuzzy import fuzz\n",
        "\n",
        "# links\n",
        "understat = {\n",
        "    'match_link': 'https://understat.com/match/',\n",
        "    '22/23': {\n",
        "        'EPL': 'https://understat.com/league/EPL/2022',\n",
        "        'Serie A': 'https://understat.com/league/Serie_A/2022',\n",
        "        'La liga': 'https://understat.com/league/La_liga/2022',\n",
        "        'Bundesliga': 'https://understat.com/league/Bundesliga/2022',\n",
        "        'Ligue 1': 'https://understat.com/league/Ligue_1/2022'\n",
        "    },\n",
        "    '21/22': {\n",
        "        'EPL': 'https://understat.com/league/EPL/2021',\n",
        "        'Serie A': 'https://understat.com/league/Serie_A/2021',\n",
        "        'La liga': 'https://understat.com/league/La_liga/2021',\n",
        "        'Bundesliga': 'https://understat.com/league/Bundesliga/2021',\n",
        "        'Ligue 1': 'https://understat.com/league/Ligue_1/2021'\n",
        "    },\n",
        "    '20/21': {\n",
        "        'EPL': 'https://understat.com/league/EPL/2020',\n",
        "        'Serie A': 'https://understat.com/league/Serie_A/2020',\n",
        "        'La liga': 'https://understat.com/league/La_liga/2020',\n",
        "        'Bundesliga': 'https://understat.com/league/Bundesliga/2020',\n",
        "        'Ligue 1': 'https://understat.com/league/Ligue_1/2020'\n",
        "    },\n",
        "    '19/20': {\n",
        "        'EPL': 'https://understat.com/league/EPL/2019',\n",
        "        'Serie A': 'https://understat.com/league/Serie_A/2019',\n",
        "        'La liga': 'https://understat.com/league/La_liga/2019',\n",
        "        'Bundesliga': 'https://understat.com/league/Bundesliga/2019',\n",
        "        'Ligue 1': 'https://understat.com/league/Ligue_1/2019'\n",
        "    },\n",
        "    '18/19': {\n",
        "        'EPL': 'https://understat.com/league/EPL/2018',\n",
        "        'Serie A': 'https://understat.com/league/Serie_A/2018',\n",
        "        'La liga': 'https://understat.com/league/La_liga/2018',\n",
        "        'Bundesliga': 'https://understat.com/league/Bundesliga/2018',\n",
        "        'Ligue 1': 'https://understat.com/league/Ligue_1/2018'\n",
        "    },\n",
        "    '17/18': {\n",
        "        'EPL': 'https://understat.com/league/EPL/2018',\n",
        "        'Serie A': 'https://understat.com/league/Serie_A/2017',\n",
        "        'La liga': 'https://understat.com/league/La_liga/2017',\n",
        "        'Bundesliga': 'https://understat.com/league/Bundesliga/2017',\n",
        "        'Ligue 1': 'https://understat.com/league/Ligue_1/2017'\n",
        "    },\n",
        "    '16/17': {\n",
        "        'EPL': 'https://understat.com/league/EPL/2016',\n",
        "        'Serie A': 'https://understat.com/league/Serie_A/2016',\n",
        "        'La liga': 'https://understat.com/league/La_liga/2016',\n",
        "        'Bundesliga': 'https://understat.com/league/Bundesliga/2016',\n",
        "        'Ligue 1': 'https://understat.com/league/Ligue_1/2016'\n",
        "    },\n",
        "    '15/16': {\n",
        "        'EPL': 'https://understat.com/league/EPL/2015',\n",
        "        'Serie A': 'https://understat.com/league/Serie_A/2015',\n",
        "        'La liga': 'https://understat.com/league/La_liga/2015',\n",
        "        'Bundesliga': 'https://understat.com/league/Bundesliga/2015',\n",
        "        'Ligue 1': 'https://understat.com/league/Ligue_1/2015'\n",
        "    },\n",
        "    '14/15': {\n",
        "        'EPL': 'https://understat.com/league/EPL/2014',\n",
        "        'Serie A': 'https://understat.com/league/Serie_A/2014',\n",
        "        'La liga': 'https://understat.com/league/La_liga/2014',\n",
        "        'Bundesliga': 'https://understat.com/league/Bundesliga/2014',\n",
        "        'Ligue 1': 'https://understat.com/league/Ligue_1/2014'\n",
        "    },\n",
        "}\n",
        "# enums\n",
        "HOME, AWAY = 0, 1\n",
        "DRAW, WON, LOST = 0, 1, 2\n",
        "W_PTS, D_PTS, L_PTS = 3, 1, 0"
      ]
    },
    {
      "cell_type": "code",
      "execution_count": 30,
      "metadata": {
        "id": "LV0YTPuxcsSq"
      },
      "outputs": [],
      "source": [
        "class Club :\n",
        "    def __init__(self, club : str) :\n",
        "        self.last_5, self.last_10, self.last_15, self.last_25, self.last_38 = [], [], [], [], []\n",
        "        self.club = club"
      ]
    },
    {
      "cell_type": "code",
      "execution_count": 31,
      "metadata": {
        "id": "KzS6N_W1csSq"
      },
      "outputs": [],
      "source": [
        "def get_all_clubs(url) :\n",
        "    clubs = []\n",
        "    res = requests.get(url)\n",
        "\n",
        "    soup = BeautifulSoup(res.content, 'lxml')\n",
        "    scripts = soup.find_all('script')\n",
        "    strings = scripts[1].string\n",
        "\n",
        "    ind_start = strings.index(\"('\") + 2\n",
        "    ind_end = strings.index(\"')\")\n",
        "\n",
        "    json_data = strings[ind_start : ind_end]\n",
        "    json_data = json_data.encode('utf8').decode('unicode_escape')\n",
        "\n",
        "    data = json.loads(json_data)\n",
        "    for i in range(10) :\n",
        "        clubs.append(data[i]['h']['title'])\n",
        "        clubs.append(data[i]['a']['title'])\n",
        "    return set(clubs)\n",
        "\n",
        "all_clubs = []\n",
        "for key, value in understat.items() :\n",
        "    if (key == 'match_link') : continue\n",
        "    for name, link in value.items() :\n",
        "        all_clubs = all_clubs + list(get_all_clubs(link))\n",
        "all_clubs = set(all_clubs)\n",
        "\n",
        "all_club_dict = {}\n",
        "\n",
        "for club in all_clubs :\n",
        "    all_club_dict[club] = Club(club)"
      ]
    },
    {
      "cell_type": "code",
      "execution_count": 32,
      "metadata": {
        "id": "gVam3vUWcsSq"
      },
      "outputs": [],
      "source": [
        "model = tf.keras.models.load_model('./prediction_model')\n",
        "loaded_clubs = np.load('clubs_stats_for_predictions.npy', allow_pickle=True).item()\n",
        "\n",
        "for club in all_clubs :\n",
        "    all_club_dict[club].last_5 = loaded_clubs[club][0][0]\n",
        "    all_club_dict[club].last_10 = loaded_clubs[club][0][1]\n",
        "    all_club_dict[club].last_15 = loaded_clubs[club][0][2]\n",
        "    all_club_dict[club].last_25 = loaded_clubs[club][0][3]\n",
        "    all_club_dict[club].last_38 = loaded_clubs[club][0][4]\n",
        "\n"
      ]
    },
    {
      "cell_type": "code",
      "execution_count": 33,
      "metadata": {
        "id": "MDgNLCFxcsSq"
      },
      "outputs": [],
      "source": [
        "def match_names(name : str) :\n",
        "        name = name.lower()\n",
        "        closest_approximation = \"\"\n",
        "        greatest_value = -1\n",
        "\n",
        "        for club in all_clubs :\n",
        "            ratio = fuzz.ratio(name, club.lower())\n",
        "            partial_ratio = fuzz.partial_ratio(name, club.lower())\n",
        "\n",
        "            value = ratio * 0.6 + partial_ratio * 0.4\n",
        "\n",
        "            if (value > greatest_value) :\n",
        "                greatest_value = value\n",
        "                closest_approximation = club\n",
        "\n",
        "        if (greatest_value < 35) : return None\n",
        "        else : return closest_approximation"
      ]
    },
    {
      "cell_type": "code",
      "execution_count": 34,
      "metadata": {
        "id": "SBXIVkutcsSq"
      },
      "outputs": [],
      "source": [
        "def predict(home_team, away_team) :\n",
        "    home_team = match_names(home_team)\n",
        "    away_team = match_names(away_team)\n",
        "    input = []\n",
        "\n",
        "    input.append(all_club_dict[home_team].last_5\n",
        "            + all_club_dict[home_team].last_10\n",
        "            + all_club_dict[home_team].last_15\n",
        "            + all_club_dict[home_team].last_25\n",
        "            + all_club_dict[home_team].last_38\n",
        "            + all_club_dict[away_team].last_5\n",
        "            + all_club_dict[away_team].last_10\n",
        "            + all_club_dict[away_team].last_15\n",
        "            + all_club_dict[away_team].last_25\n",
        "            + all_club_dict[away_team].last_38\n",
        "        )\n",
        "    prediction = model.predict(input)\n",
        "\n",
        "    print('DRAW chance:', \"{:.2f}\".format(prediction[0][0] * 100))\n",
        "    print(home_team, 'WIN chance:', \"{:.2f}\".format(prediction[0][1] * 100))\n",
        "    print(away_team, 'WIN chance:', \"{:.2f}\".format(prediction[0][2] * 100))"
      ]
    },
    {
      "cell_type": "code",
      "execution_count": 35,
      "metadata": {
        "id": "uyDZedfucsSr",
        "outputId": "8bcdb747-89f6-44a8-f1cb-443d274e0ede",
        "colab": {
          "base_uri": "https://localhost:8080/"
        }
      },
      "outputs": [
        {
          "output_type": "stream",
          "name": "stdout",
          "text": [
            "Football Match Prediction:\n",
            "\n",
            "Home Team:Alaves\n",
            "You entered: Alaves\n",
            "Away Team:Real\n",
            "You entered: Real Betis\n",
            "1/1 [==============================] - 0s 93ms/step\n",
            "DRAW chance: 25.40\n",
            "Alaves WIN chance: 28.34\n",
            "Real Betis WIN chance: 46.26\n"
          ]
        }
      ],
      "source": [
        "import builtins\n",
        "\n",
        "print(\"Football Match Prediction:\\n\")\n",
        "pred_home_team = builtins.input('Home Team:')\n",
        "print('You entered:', match_names(pred_home_team))\n",
        "pred_away_team = builtins.input('Away Team:')\n",
        "print('You entered:',  match_names(pred_away_team))\n",
        "predict(pred_home_team, pred_away_team)"
      ]
    }
  ],
  "metadata": {
    "kernelspec": {
      "display_name": "Python 3",
      "language": "python",
      "name": "python3"
    },
    "language_info": {
      "codemirror_mode": {
        "name": "ipython",
        "version": 3
      },
      "file_extension": ".py",
      "mimetype": "text/x-python",
      "name": "python",
      "nbconvert_exporter": "python",
      "pygments_lexer": "ipython3",
      "version": "3.10.9"
    },
    "orig_nbformat": 4,
    "vscode": {
      "interpreter": {
        "hash": "bb33f6d328f18c07440802b8c66874c52744b86bff5cfe8eb1d71afeb55a2150"
      }
    },
    "colab": {
      "provenance": []
    }
  },
  "nbformat": 4,
  "nbformat_minor": 0
}